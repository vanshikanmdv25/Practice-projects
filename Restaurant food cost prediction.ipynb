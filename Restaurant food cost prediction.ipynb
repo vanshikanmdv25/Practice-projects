{
 "cells": [
  {
   "cell_type": "code",
   "execution_count": 1,
   "id": "9cf8033d",
   "metadata": {},
   "outputs": [],
   "source": [
    "import pandas as pd\n",
    "import numpy as np\n",
    "import seaborn as sns\n",
    "import matplotlib.pyplot as plt\n",
    "import warnings\n",
    "warnings.filterwarnings('ignore')\n",
    "from sklearn.model_selection import train_test_split"
   ]
  },
  {
   "cell_type": "code",
   "execution_count": 2,
   "id": "3fb77eb5",
   "metadata": {},
   "outputs": [
    {
     "data": {
      "text/html": [
       "<div>\n",
       "<style scoped>\n",
       "    .dataframe tbody tr th:only-of-type {\n",
       "        vertical-align: middle;\n",
       "    }\n",
       "\n",
       "    .dataframe tbody tr th {\n",
       "        vertical-align: top;\n",
       "    }\n",
       "\n",
       "    .dataframe thead th {\n",
       "        text-align: right;\n",
       "    }\n",
       "</style>\n",
       "<table border=\"1\" class=\"dataframe\">\n",
       "  <thead>\n",
       "    <tr style=\"text-align: right;\">\n",
       "      <th></th>\n",
       "      <th>TITLE</th>\n",
       "      <th>RESTAURANT_ID</th>\n",
       "      <th>CUISINES</th>\n",
       "      <th>TIME</th>\n",
       "      <th>CITY</th>\n",
       "      <th>LOCALITY</th>\n",
       "      <th>RATING</th>\n",
       "      <th>VOTES</th>\n",
       "      <th>COST</th>\n",
       "    </tr>\n",
       "  </thead>\n",
       "  <tbody>\n",
       "    <tr>\n",
       "      <th>0</th>\n",
       "      <td>CASUAL DINING</td>\n",
       "      <td>9438</td>\n",
       "      <td>Malwani, Goan, North Indian</td>\n",
       "      <td>11am – 4pm, 7:30pm – 11:30pm (Mon-Sun)</td>\n",
       "      <td>Thane</td>\n",
       "      <td>Dombivali East</td>\n",
       "      <td>3.6</td>\n",
       "      <td>49 votes</td>\n",
       "      <td>1200</td>\n",
       "    </tr>\n",
       "    <tr>\n",
       "      <th>1</th>\n",
       "      <td>CASUAL DINING,BAR</td>\n",
       "      <td>13198</td>\n",
       "      <td>Asian, Modern Indian, Japanese</td>\n",
       "      <td>6pm – 11pm (Mon-Sun)</td>\n",
       "      <td>Chennai</td>\n",
       "      <td>Ramapuram</td>\n",
       "      <td>4.2</td>\n",
       "      <td>30 votes</td>\n",
       "      <td>1500</td>\n",
       "    </tr>\n",
       "    <tr>\n",
       "      <th>2</th>\n",
       "      <td>CASUAL DINING</td>\n",
       "      <td>10915</td>\n",
       "      <td>North Indian, Chinese, Biryani, Hyderabadi</td>\n",
       "      <td>11am – 3:30pm, 7pm – 11pm (Mon-Sun)</td>\n",
       "      <td>Chennai</td>\n",
       "      <td>Saligramam</td>\n",
       "      <td>3.8</td>\n",
       "      <td>221 votes</td>\n",
       "      <td>800</td>\n",
       "    </tr>\n",
       "    <tr>\n",
       "      <th>3</th>\n",
       "      <td>QUICK BITES</td>\n",
       "      <td>6346</td>\n",
       "      <td>Tibetan, Chinese</td>\n",
       "      <td>11:30am – 1am (Mon-Sun)</td>\n",
       "      <td>Mumbai</td>\n",
       "      <td>Bandra West</td>\n",
       "      <td>4.1</td>\n",
       "      <td>24 votes</td>\n",
       "      <td>800</td>\n",
       "    </tr>\n",
       "    <tr>\n",
       "      <th>4</th>\n",
       "      <td>DESSERT PARLOR</td>\n",
       "      <td>15387</td>\n",
       "      <td>Desserts</td>\n",
       "      <td>11am – 1am (Mon-Sun)</td>\n",
       "      <td>Mumbai</td>\n",
       "      <td>Lower Parel</td>\n",
       "      <td>3.8</td>\n",
       "      <td>165 votes</td>\n",
       "      <td>300</td>\n",
       "    </tr>\n",
       "    <tr>\n",
       "      <th>...</th>\n",
       "      <td>...</td>\n",
       "      <td>...</td>\n",
       "      <td>...</td>\n",
       "      <td>...</td>\n",
       "      <td>...</td>\n",
       "      <td>...</td>\n",
       "      <td>...</td>\n",
       "      <td>...</td>\n",
       "      <td>...</td>\n",
       "    </tr>\n",
       "    <tr>\n",
       "      <th>12685</th>\n",
       "      <td>QUICK BITES</td>\n",
       "      <td>13228</td>\n",
       "      <td>North Indian, Burger, Kebab</td>\n",
       "      <td>12noon – 12midnight (Mon, Tue, Wed, Thu, Sun)...</td>\n",
       "      <td>Hyderabad</td>\n",
       "      <td>Gachibowli</td>\n",
       "      <td>3.8</td>\n",
       "      <td>546 votes</td>\n",
       "      <td>500</td>\n",
       "    </tr>\n",
       "    <tr>\n",
       "      <th>12686</th>\n",
       "      <td>CASUAL DINING,BAR</td>\n",
       "      <td>9686</td>\n",
       "      <td>Goan, Continental</td>\n",
       "      <td>12noon – 1am (Mon-Fri),11am – 5pm, 7pm – 1am...</td>\n",
       "      <td>Mumbai</td>\n",
       "      <td>Bandra Kurla Complex</td>\n",
       "      <td>4.3</td>\n",
       "      <td>1214 votes</td>\n",
       "      <td>1800</td>\n",
       "    </tr>\n",
       "    <tr>\n",
       "      <th>12687</th>\n",
       "      <td>LOUNGE</td>\n",
       "      <td>11133</td>\n",
       "      <td>Finger Food, Continental, Asian, Chinese</td>\n",
       "      <td>12noon – 12:30AM (Mon-Sun)</td>\n",
       "      <td>Navi Mumbai</td>\n",
       "      <td>Vashi</td>\n",
       "      <td>4.0</td>\n",
       "      <td>608 votes</td>\n",
       "      <td>1300</td>\n",
       "    </tr>\n",
       "    <tr>\n",
       "      <th>12688</th>\n",
       "      <td>CASUAL DINING</td>\n",
       "      <td>6134</td>\n",
       "      <td>North Indian, South Indian, Chinese, Street Food</td>\n",
       "      <td>6am – 10:45pm (Mon-Sun)</td>\n",
       "      <td>Chennai</td>\n",
       "      <td>Maduravoyal</td>\n",
       "      <td>3.5</td>\n",
       "      <td>32 votes</td>\n",
       "      <td>400</td>\n",
       "    </tr>\n",
       "    <tr>\n",
       "      <th>12689</th>\n",
       "      <td>CASUAL DINING</td>\n",
       "      <td>6430</td>\n",
       "      <td>North Indian, Chinese</td>\n",
       "      <td>12:30pm – 11pm (Mon-Sun)</td>\n",
       "      <td>Hyderabad</td>\n",
       "      <td>Vanasthalipuram</td>\n",
       "      <td>3.4</td>\n",
       "      <td>677 votes</td>\n",
       "      <td>600</td>\n",
       "    </tr>\n",
       "  </tbody>\n",
       "</table>\n",
       "<p>12690 rows × 9 columns</p>\n",
       "</div>"
      ],
      "text/plain": [
       "                   TITLE  RESTAURANT_ID  \\\n",
       "0          CASUAL DINING           9438   \n",
       "1      CASUAL DINING,BAR          13198   \n",
       "2          CASUAL DINING          10915   \n",
       "3            QUICK BITES           6346   \n",
       "4         DESSERT PARLOR          15387   \n",
       "...                  ...            ...   \n",
       "12685        QUICK BITES          13228   \n",
       "12686  CASUAL DINING,BAR           9686   \n",
       "12687             LOUNGE          11133   \n",
       "12688      CASUAL DINING           6134   \n",
       "12689      CASUAL DINING           6430   \n",
       "\n",
       "                                               CUISINES  \\\n",
       "0                           Malwani, Goan, North Indian   \n",
       "1                        Asian, Modern Indian, Japanese   \n",
       "2            North Indian, Chinese, Biryani, Hyderabadi   \n",
       "3                                      Tibetan, Chinese   \n",
       "4                                              Desserts   \n",
       "...                                                 ...   \n",
       "12685                       North Indian, Burger, Kebab   \n",
       "12686                                 Goan, Continental   \n",
       "12687          Finger Food, Continental, Asian, Chinese   \n",
       "12688  North Indian, South Indian, Chinese, Street Food   \n",
       "12689                             North Indian, Chinese   \n",
       "\n",
       "                                                   TIME         CITY  \\\n",
       "0                11am – 4pm, 7:30pm – 11:30pm (Mon-Sun)        Thane   \n",
       "1                                  6pm – 11pm (Mon-Sun)      Chennai   \n",
       "2                   11am – 3:30pm, 7pm – 11pm (Mon-Sun)      Chennai   \n",
       "3                               11:30am – 1am (Mon-Sun)       Mumbai   \n",
       "4                                  11am – 1am (Mon-Sun)       Mumbai   \n",
       "...                                                 ...          ...   \n",
       "12685  12noon – 12midnight (Mon, Tue, Wed, Thu, Sun)...    Hyderabad   \n",
       "12686   12noon – 1am (Mon-Fri),11am – 5pm, 7pm – 1am...       Mumbai   \n",
       "12687                        12noon – 12:30AM (Mon-Sun)  Navi Mumbai   \n",
       "12688                           6am – 10:45pm (Mon-Sun)      Chennai   \n",
       "12689                          12:30pm – 11pm (Mon-Sun)    Hyderabad   \n",
       "\n",
       "                   LOCALITY RATING       VOTES  COST  \n",
       "0            Dombivali East    3.6    49 votes  1200  \n",
       "1                 Ramapuram    4.2    30 votes  1500  \n",
       "2                Saligramam    3.8   221 votes   800  \n",
       "3               Bandra West    4.1    24 votes   800  \n",
       "4               Lower Parel    3.8   165 votes   300  \n",
       "...                     ...    ...         ...   ...  \n",
       "12685            Gachibowli    3.8   546 votes   500  \n",
       "12686  Bandra Kurla Complex    4.3  1214 votes  1800  \n",
       "12687                 Vashi    4.0   608 votes  1300  \n",
       "12688           Maduravoyal    3.5    32 votes   400  \n",
       "12689       Vanasthalipuram    3.4   677 votes   600  \n",
       "\n",
       "[12690 rows x 9 columns]"
      ]
     },
     "execution_count": 2,
     "metadata": {},
     "output_type": "execute_result"
    }
   ],
   "source": [
    "df= pd.read_excel('Data_Train.xlsx')\n",
    "df"
   ]
  },
  {
   "cell_type": "code",
   "execution_count": 3,
   "id": "93bdc5d1",
   "metadata": {
    "scrolled": true
   },
   "outputs": [
    {
     "data": {
      "text/html": [
       "<div>\n",
       "<style scoped>\n",
       "    .dataframe tbody tr th:only-of-type {\n",
       "        vertical-align: middle;\n",
       "    }\n",
       "\n",
       "    .dataframe tbody tr th {\n",
       "        vertical-align: top;\n",
       "    }\n",
       "\n",
       "    .dataframe thead th {\n",
       "        text-align: right;\n",
       "    }\n",
       "</style>\n",
       "<table border=\"1\" class=\"dataframe\">\n",
       "  <thead>\n",
       "    <tr style=\"text-align: right;\">\n",
       "      <th></th>\n",
       "      <th>TITLE</th>\n",
       "      <th>RESTAURANT_ID</th>\n",
       "      <th>CUISINES</th>\n",
       "      <th>TIME</th>\n",
       "      <th>CITY</th>\n",
       "      <th>LOCALITY</th>\n",
       "      <th>RATING</th>\n",
       "      <th>VOTES</th>\n",
       "      <th>COST</th>\n",
       "    </tr>\n",
       "  </thead>\n",
       "  <tbody>\n",
       "    <tr>\n",
       "      <th>0</th>\n",
       "      <td>CASUAL DINING</td>\n",
       "      <td>9438</td>\n",
       "      <td>Malwani, Goan, North Indian</td>\n",
       "      <td>11am – 4pm, 7:30pm – 11:30pm (Mon-Sun)</td>\n",
       "      <td>Thane</td>\n",
       "      <td>Dombivali East</td>\n",
       "      <td>3.6</td>\n",
       "      <td>49 votes</td>\n",
       "      <td>1200</td>\n",
       "    </tr>\n",
       "    <tr>\n",
       "      <th>1</th>\n",
       "      <td>CASUAL DINING,BAR</td>\n",
       "      <td>13198</td>\n",
       "      <td>Asian, Modern Indian, Japanese</td>\n",
       "      <td>6pm – 11pm (Mon-Sun)</td>\n",
       "      <td>Chennai</td>\n",
       "      <td>Ramapuram</td>\n",
       "      <td>4.2</td>\n",
       "      <td>30 votes</td>\n",
       "      <td>1500</td>\n",
       "    </tr>\n",
       "    <tr>\n",
       "      <th>2</th>\n",
       "      <td>CASUAL DINING</td>\n",
       "      <td>10915</td>\n",
       "      <td>North Indian, Chinese, Biryani, Hyderabadi</td>\n",
       "      <td>11am – 3:30pm, 7pm – 11pm (Mon-Sun)</td>\n",
       "      <td>Chennai</td>\n",
       "      <td>Saligramam</td>\n",
       "      <td>3.8</td>\n",
       "      <td>221 votes</td>\n",
       "      <td>800</td>\n",
       "    </tr>\n",
       "    <tr>\n",
       "      <th>3</th>\n",
       "      <td>QUICK BITES</td>\n",
       "      <td>6346</td>\n",
       "      <td>Tibetan, Chinese</td>\n",
       "      <td>11:30am – 1am (Mon-Sun)</td>\n",
       "      <td>Mumbai</td>\n",
       "      <td>Bandra West</td>\n",
       "      <td>4.1</td>\n",
       "      <td>24 votes</td>\n",
       "      <td>800</td>\n",
       "    </tr>\n",
       "    <tr>\n",
       "      <th>4</th>\n",
       "      <td>DESSERT PARLOR</td>\n",
       "      <td>15387</td>\n",
       "      <td>Desserts</td>\n",
       "      <td>11am – 1am (Mon-Sun)</td>\n",
       "      <td>Mumbai</td>\n",
       "      <td>Lower Parel</td>\n",
       "      <td>3.8</td>\n",
       "      <td>165 votes</td>\n",
       "      <td>300</td>\n",
       "    </tr>\n",
       "  </tbody>\n",
       "</table>\n",
       "</div>"
      ],
      "text/plain": [
       "               TITLE  RESTAURANT_ID  \\\n",
       "0      CASUAL DINING           9438   \n",
       "1  CASUAL DINING,BAR          13198   \n",
       "2      CASUAL DINING          10915   \n",
       "3        QUICK BITES           6346   \n",
       "4     DESSERT PARLOR          15387   \n",
       "\n",
       "                                     CUISINES  \\\n",
       "0                 Malwani, Goan, North Indian   \n",
       "1              Asian, Modern Indian, Japanese   \n",
       "2  North Indian, Chinese, Biryani, Hyderabadi   \n",
       "3                            Tibetan, Chinese   \n",
       "4                                    Desserts   \n",
       "\n",
       "                                     TIME     CITY        LOCALITY RATING  \\\n",
       "0  11am – 4pm, 7:30pm – 11:30pm (Mon-Sun)    Thane  Dombivali East    3.6   \n",
       "1                    6pm – 11pm (Mon-Sun)  Chennai       Ramapuram    4.2   \n",
       "2     11am – 3:30pm, 7pm – 11pm (Mon-Sun)  Chennai      Saligramam    3.8   \n",
       "3                 11:30am – 1am (Mon-Sun)   Mumbai     Bandra West    4.1   \n",
       "4                    11am – 1am (Mon-Sun)   Mumbai     Lower Parel    3.8   \n",
       "\n",
       "       VOTES  COST  \n",
       "0   49 votes  1200  \n",
       "1   30 votes  1500  \n",
       "2  221 votes   800  \n",
       "3   24 votes   800  \n",
       "4  165 votes   300  "
      ]
     },
     "execution_count": 3,
     "metadata": {},
     "output_type": "execute_result"
    }
   ],
   "source": [
    "df.head()"
   ]
  },
  {
   "cell_type": "code",
   "execution_count": 4,
   "id": "c81815fa",
   "metadata": {},
   "outputs": [
    {
     "data": {
      "text/plain": [
       "(12690, 9)"
      ]
     },
     "execution_count": 4,
     "metadata": {},
     "output_type": "execute_result"
    }
   ],
   "source": [
    "df.shape"
   ]
  },
  {
   "cell_type": "code",
   "execution_count": 5,
   "id": "ff44923d",
   "metadata": {
    "scrolled": true
   },
   "outputs": [
    {
     "data": {
      "text/plain": [
       "['TITLE',\n",
       " 'RESTAURANT_ID',\n",
       " 'CUISINES',\n",
       " 'TIME',\n",
       " 'CITY',\n",
       " 'LOCALITY',\n",
       " 'RATING',\n",
       " 'VOTES',\n",
       " 'COST']"
      ]
     },
     "execution_count": 5,
     "metadata": {},
     "output_type": "execute_result"
    }
   ],
   "source": [
    "df.columns.tolist()"
   ]
  },
  {
   "cell_type": "code",
   "execution_count": 6,
   "id": "1f554926",
   "metadata": {},
   "outputs": [
    {
     "data": {
      "text/plain": [
       "TITLE            object\n",
       "RESTAURANT_ID     int64\n",
       "CUISINES         object\n",
       "TIME             object\n",
       "CITY             object\n",
       "LOCALITY         object\n",
       "RATING           object\n",
       "VOTES            object\n",
       "COST              int64\n",
       "dtype: object"
      ]
     },
     "execution_count": 6,
     "metadata": {},
     "output_type": "execute_result"
    }
   ],
   "source": [
    "df.dtypes"
   ]
  },
  {
   "cell_type": "code",
   "execution_count": 7,
   "id": "5e98fb03",
   "metadata": {},
   "outputs": [
    {
     "data": {
      "text/plain": [
       "TITLE               0\n",
       "RESTAURANT_ID       0\n",
       "CUISINES            0\n",
       "TIME                0\n",
       "CITY              112\n",
       "LOCALITY           98\n",
       "RATING              2\n",
       "VOTES            1204\n",
       "COST                0\n",
       "dtype: int64"
      ]
     },
     "execution_count": 7,
     "metadata": {},
     "output_type": "execute_result"
    }
   ],
   "source": [
    "df.isnull().sum()"
   ]
  },
  {
   "cell_type": "markdown",
   "id": "aa4e4fe8",
   "metadata": {},
   "source": [
    "# Handling missing values"
   ]
  },
  {
   "cell_type": "code",
   "execution_count": 8,
   "id": "b3f74059",
   "metadata": {},
   "outputs": [],
   "source": [
    "df= df.drop(columns='VOTES', axis=1)"
   ]
  },
  {
   "cell_type": "markdown",
   "id": "bf906108",
   "metadata": {},
   "source": [
    "For handling the missing values we fill the missing values with mean or mode of that column but in case of votes column most of the values are missing so it will not be appropriate to fill the missing values. Hence, we droped the column from our dataset."
   ]
  },
  {
   "cell_type": "code",
   "execution_count": 9,
   "id": "37d9073a",
   "metadata": {},
   "outputs": [],
   "source": [
    "df['RATING'] = df['RATING'].replace(np.nan,0)"
   ]
  },
  {
   "cell_type": "code",
   "execution_count": 10,
   "id": "16521955",
   "metadata": {},
   "outputs": [],
   "source": [
    "df['RATING'] = pd.to_numeric(df['RATING'], errors='coerce')"
   ]
  },
  {
   "cell_type": "code",
   "execution_count": 11,
   "id": "0aaf47c9",
   "metadata": {},
   "outputs": [],
   "source": [
    "#filling nan values of rating column with mean value\n",
    "df['RATING'].fillna(df['RATING'].mean(), inplace= True)"
   ]
  },
  {
   "cell_type": "code",
   "execution_count": 12,
   "id": "813086dd",
   "metadata": {},
   "outputs": [
    {
     "name": "stdout",
     "output_type": "stream",
     "text": [
      "0    Chennai\n",
      "Name: CITY, dtype: object\n",
      "0    Gachibowli\n",
      "Name: LOCALITY, dtype: object\n"
     ]
    }
   ],
   "source": [
    "print(df['CITY'].mode())\n",
    "print(df['LOCALITY'].mode())"
   ]
  },
  {
   "cell_type": "code",
   "execution_count": 13,
   "id": "8070da44",
   "metadata": {},
   "outputs": [],
   "source": [
    "#filling missing values of columns\n",
    "df['CITY'].fillna(df['CITY'].mode()[0], inplace= True)\n",
    "df['LOCALITY'].fillna(df['LOCALITY'].mode()[0], inplace= True)"
   ]
  },
  {
   "cell_type": "markdown",
   "id": "d5c12b0c",
   "metadata": {},
   "source": [
    "City and locality column does not have numerical values in it so we cannot fill the null values with mean of the column. since it has categorical values in the column so we will fill the null values of the column with mode of the column."
   ]
  },
  {
   "cell_type": "code",
   "execution_count": 14,
   "id": "435466ce",
   "metadata": {},
   "outputs": [
    {
     "data": {
      "text/plain": [
       "TITLE            0\n",
       "RESTAURANT_ID    0\n",
       "CUISINES         0\n",
       "TIME             0\n",
       "CITY             0\n",
       "LOCALITY         0\n",
       "RATING           0\n",
       "COST             0\n",
       "dtype: int64"
      ]
     },
     "execution_count": 14,
     "metadata": {},
     "output_type": "execute_result"
    }
   ],
   "source": [
    "df.isnull().sum()"
   ]
  },
  {
   "cell_type": "markdown",
   "id": "e4502fbf",
   "metadata": {},
   "source": [
    "# Data Analysis"
   ]
  },
  {
   "cell_type": "code",
   "execution_count": 15,
   "id": "a66ae36b",
   "metadata": {},
   "outputs": [
    {
     "data": {
      "text/html": [
       "<div>\n",
       "<style scoped>\n",
       "    .dataframe tbody tr th:only-of-type {\n",
       "        vertical-align: middle;\n",
       "    }\n",
       "\n",
       "    .dataframe tbody tr th {\n",
       "        vertical-align: top;\n",
       "    }\n",
       "\n",
       "    .dataframe thead th {\n",
       "        text-align: right;\n",
       "    }\n",
       "</style>\n",
       "<table border=\"1\" class=\"dataframe\">\n",
       "  <thead>\n",
       "    <tr style=\"text-align: right;\">\n",
       "      <th></th>\n",
       "      <th>RESTAURANT_ID</th>\n",
       "      <th>RATING</th>\n",
       "      <th>COST</th>\n",
       "    </tr>\n",
       "  </thead>\n",
       "  <tbody>\n",
       "    <tr>\n",
       "      <th>count</th>\n",
       "      <td>12690.000000</td>\n",
       "      <td>12690.000000</td>\n",
       "      <td>12690.000000</td>\n",
       "    </tr>\n",
       "    <tr>\n",
       "      <th>mean</th>\n",
       "      <td>7759.134121</td>\n",
       "      <td>3.784793</td>\n",
       "      <td>655.252246</td>\n",
       "    </tr>\n",
       "    <tr>\n",
       "      <th>std</th>\n",
       "      <td>4504.874150</td>\n",
       "      <td>0.404367</td>\n",
       "      <td>627.003540</td>\n",
       "    </tr>\n",
       "    <tr>\n",
       "      <th>min</th>\n",
       "      <td>0.000000</td>\n",
       "      <td>0.000000</td>\n",
       "      <td>20.000000</td>\n",
       "    </tr>\n",
       "    <tr>\n",
       "      <th>25%</th>\n",
       "      <td>3863.250000</td>\n",
       "      <td>3.600000</td>\n",
       "      <td>300.000000</td>\n",
       "    </tr>\n",
       "    <tr>\n",
       "      <th>50%</th>\n",
       "      <td>7740.000000</td>\n",
       "      <td>3.800000</td>\n",
       "      <td>500.000000</td>\n",
       "    </tr>\n",
       "    <tr>\n",
       "      <th>75%</th>\n",
       "      <td>11688.750000</td>\n",
       "      <td>4.000000</td>\n",
       "      <td>800.000000</td>\n",
       "    </tr>\n",
       "    <tr>\n",
       "      <th>max</th>\n",
       "      <td>15573.000000</td>\n",
       "      <td>4.900000</td>\n",
       "      <td>14000.000000</td>\n",
       "    </tr>\n",
       "  </tbody>\n",
       "</table>\n",
       "</div>"
      ],
      "text/plain": [
       "       RESTAURANT_ID        RATING          COST\n",
       "count   12690.000000  12690.000000  12690.000000\n",
       "mean     7759.134121      3.784793    655.252246\n",
       "std      4504.874150      0.404367    627.003540\n",
       "min         0.000000      0.000000     20.000000\n",
       "25%      3863.250000      3.600000    300.000000\n",
       "50%      7740.000000      3.800000    500.000000\n",
       "75%     11688.750000      4.000000    800.000000\n",
       "max     15573.000000      4.900000  14000.000000"
      ]
     },
     "execution_count": 15,
     "metadata": {},
     "output_type": "execute_result"
    }
   ],
   "source": [
    "df.describe()"
   ]
  },
  {
   "cell_type": "markdown",
   "id": "e17b883f",
   "metadata": {},
   "source": [
    "From above statistical information we can say :\n",
    "\n",
    "1) statistical data is possible only for numerical column and not for categorical columns.\n",
    "2) Above we only have ID, rating and cost column as statistical information is not relevant for other columns.\n",
    "3) The mean value in rating column is  almost equal to median which means there is normal distribution in this column.\n",
    "4) The mean value in cost column is greater than the median which means data is skewed to the right in this column."
   ]
  },
  {
   "cell_type": "code",
   "execution_count": 16,
   "id": "fed3fddb",
   "metadata": {},
   "outputs": [
    {
     "name": "stdout",
     "output_type": "stream",
     "text": [
      "QUICK BITES                 4218\n",
      "CASUAL DINING               3652\n",
      "None                        1003\n",
      "CAFÉ                         607\n",
      "DESSERT PARLOR               382\n",
      "                            ... \n",
      "QUICK BITES,BAR                1\n",
      "MEAT SHOP                      1\n",
      "SWEET SHOP,CONFECTIONERY       1\n",
      "BEVERAGE SHOP,FOOD COURT       1\n",
      "BAR,MICROBREWERY               1\n",
      "Name: TITLE, Length: 113, dtype: int64\n",
      "\n",
      "\n",
      "7264     8\n",
      "4634     7\n",
      "9910     6\n",
      "11971    5\n",
      "12747    5\n",
      "        ..\n",
      "9069     1\n",
      "6573     1\n",
      "7430     1\n",
      "6381     1\n",
      "6134     1\n",
      "Name: RESTAURANT_ID, Length: 11892, dtype: int64\n",
      "\n",
      "\n",
      "South Indian                                  532\n",
      "North Indian                                  526\n",
      "North Indian, Chinese                         501\n",
      "Fast Food                                     286\n",
      "Chinese                                       167\n",
      "                                             ... \n",
      "Italian, Biryani, Fast Food                     1\n",
      "Desserts, Juices, Fast Food                     1\n",
      "Asian, Continental, European, North Indian      1\n",
      "Cafe, Continental, Italian, Lebanese            1\n",
      "Finger Food, Continental, Asian, Chinese        1\n",
      "Name: CUISINES, Length: 4155, dtype: int64\n",
      "\n",
      "\n",
      "11am – 11pm (Mon-Sun)                                 1415\n",
      "12noon – 12midnight (Mon-Sun)                          469\n",
      "12noon – 11pm (Mon-Sun)                                407\n",
      "11am – 12midnight (Mon-Sun)                            310\n",
      "10am – 10pm (Mon-Sun)                                  221\n",
      "                                                      ... \n",
      "10am – 10pm (Mon-Fri),8:30am – 10pm (Sat-Sun)            1\n",
      "12noon – 3:30pm, 6pm – 10:30pm (Mon-Thu),12noon...       1\n",
      "12noon – 5:30pm, 7pm – 11pm (Mon-Sun)                    1\n",
      "12midnight – 11:45pm (Mon-Sun)                           1\n",
      "12noon – 1am (Mon-Fri),11am – 5pm, 7pm – 1am...          1\n",
      "Name: TIME, Length: 2689, dtype: int64\n",
      "\n",
      "\n",
      "Chennai                                                                           2286\n",
      "Bangalore                                                                         2149\n",
      "Hyderabad                                                                         1819\n",
      "Mumbai                                                                            1722\n",
      "New Delhi                                                                         1321\n",
      "                                                                                  ... \n",
      "Gachibowli Hyderabad                                                                 1\n",
      "CPR layout harlur main road opposite to ozone ever green apartment Bangalore -       1\n",
      "ECR NEELANKARAI Chennai 600115                                                       1\n",
      "ward X11                                                                             1\n",
      "Masab Tank                                                                           1\n",
      "Name: CITY, Length: 359, dtype: int64\n",
      "\n",
      "\n",
      "Gachibowli                 264\n",
      "Indiranagar                138\n",
      "Edappally                  122\n",
      "Kakkanad                   121\n",
      "HSR                        120\n",
      "                          ... \n",
      "Huda Market                  1\n",
      "OMR Road Sholinganallur      1\n",
      "Telangana 500053             1\n",
      "1st Lane                     1\n",
      "Near Malviya Nagar           1\n",
      "Name: LOCALITY, Length: 1416, dtype: int64\n",
      "\n",
      "\n",
      "3.900000    1238\n",
      "3.784793    1202\n",
      "3.800000    1190\n",
      "4.000000    1099\n",
      "3.700000    1086\n",
      "3.600000     951\n",
      "4.100000     936\n",
      "3.500000     771\n",
      "4.200000     723\n",
      "3.400000     575\n",
      "4.300000     556\n",
      "3.300000     365\n",
      "4.400000     362\n",
      "3.200000     266\n",
      "4.500000     199\n",
      "2.900000     186\n",
      "3.100000     186\n",
      "3.000000     170\n",
      "2.800000     146\n",
      "4.600000     141\n",
      "2.700000      89\n",
      "4.700000      69\n",
      "2.600000      61\n",
      "2.500000      35\n",
      "4.800000      32\n",
      "4.900000      22\n",
      "2.400000      15\n",
      "2.300000      10\n",
      "2.100000       3\n",
      "0.000000       2\n",
      "2.000000       2\n",
      "2.200000       2\n",
      "Name: RATING, dtype: int64\n",
      "\n",
      "\n",
      "300      1595\n",
      "400      1357\n",
      "500      1300\n",
      "200      1031\n",
      "600       806\n",
      "         ... \n",
      "8000        1\n",
      "14000       1\n",
      "5200        1\n",
      "80          1\n",
      "70          1\n",
      "Name: COST, Length: 86, dtype: int64\n",
      "\n",
      "\n"
     ]
    }
   ],
   "source": [
    "#checking the count of each unique value in columns\n",
    "for i in df.columns:\n",
    "    print(df[i].value_counts())\n",
    "    print(\"\\n\")"
   ]
  },
  {
   "cell_type": "code",
   "execution_count": 17,
   "id": "501b3a6a",
   "metadata": {},
   "outputs": [
    {
     "data": {
      "text/html": [
       "<div>\n",
       "<style scoped>\n",
       "    .dataframe tbody tr th:only-of-type {\n",
       "        vertical-align: middle;\n",
       "    }\n",
       "\n",
       "    .dataframe tbody tr th {\n",
       "        vertical-align: top;\n",
       "    }\n",
       "\n",
       "    .dataframe thead th {\n",
       "        text-align: right;\n",
       "    }\n",
       "</style>\n",
       "<table border=\"1\" class=\"dataframe\">\n",
       "  <thead>\n",
       "    <tr style=\"text-align: right;\">\n",
       "      <th></th>\n",
       "      <th>No. of unique values</th>\n",
       "    </tr>\n",
       "  </thead>\n",
       "  <tbody>\n",
       "    <tr>\n",
       "      <th>TITLE</th>\n",
       "      <td>113</td>\n",
       "    </tr>\n",
       "    <tr>\n",
       "      <th>RESTAURANT_ID</th>\n",
       "      <td>11892</td>\n",
       "    </tr>\n",
       "    <tr>\n",
       "      <th>CUISINES</th>\n",
       "      <td>4155</td>\n",
       "    </tr>\n",
       "    <tr>\n",
       "      <th>TIME</th>\n",
       "      <td>2689</td>\n",
       "    </tr>\n",
       "    <tr>\n",
       "      <th>CITY</th>\n",
       "      <td>359</td>\n",
       "    </tr>\n",
       "    <tr>\n",
       "      <th>LOCALITY</th>\n",
       "      <td>1416</td>\n",
       "    </tr>\n",
       "    <tr>\n",
       "      <th>RATING</th>\n",
       "      <td>32</td>\n",
       "    </tr>\n",
       "    <tr>\n",
       "      <th>COST</th>\n",
       "      <td>86</td>\n",
       "    </tr>\n",
       "  </tbody>\n",
       "</table>\n",
       "</div>"
      ],
      "text/plain": [
       "               No. of unique values\n",
       "TITLE                           113\n",
       "RESTAURANT_ID                 11892\n",
       "CUISINES                       4155\n",
       "TIME                           2689\n",
       "CITY                            359\n",
       "LOCALITY                       1416\n",
       "RATING                           32\n",
       "COST                             86"
      ]
     },
     "execution_count": 17,
     "metadata": {},
     "output_type": "execute_result"
    }
   ],
   "source": [
    "df.nunique().to_frame(\"No. of unique values\")"
   ]
  },
  {
   "cell_type": "markdown",
   "id": "aa47be3a",
   "metadata": {},
   "source": [
    "# Data Visualization"
   ]
  },
  {
   "cell_type": "code",
   "execution_count": 18,
   "id": "b9c16060",
   "metadata": {},
   "outputs": [
    {
     "data": {
      "text/plain": [
       "<Axes: >"
      ]
     },
     "execution_count": 18,
     "metadata": {},
     "output_type": "execute_result"
    },
    {
     "data": {
      "image/png": "[encoded data removed]",
      "text/plain": [
       "<Figure size 500x500 with 2 Axes>"
      ]
     },
     "metadata": {},
     "output_type": "display_data"
    }
   ],
   "source": [
    "plt.figure(figsize=(5,5))\n",
    "sns.heatmap(df.corr(),cmap=\"Blues\")"
   ]
  },
  {
   "cell_type": "code",
   "execution_count": 19,
   "id": "f372d3a0",
   "metadata": {},
   "outputs": [],
   "source": [
    "#separating numerical and categorical columns\n",
    "numerical_col=[]\n",
    "categorical_col=[]\n",
    "for i in df.dtypes.index:\n",
    "    if df.dtypes[i]=='object':\n",
    "        categorical_col.append(i)\n",
    "    else:\n",
    "        numerical_col.append(i)"
   ]
  },
  {
   "cell_type": "code",
   "execution_count": 20,
   "id": "41c8c7b8",
   "metadata": {},
   "outputs": [
    {
     "name": "stdout",
     "output_type": "stream",
     "text": [
      "categorical column: ['TITLE', 'CUISINES', 'TIME', 'CITY', 'LOCALITY']\n",
      "numerical column: ['RESTAURANT_ID', 'RATING', 'COST']\n"
     ]
    }
   ],
   "source": [
    "print('categorical column:',categorical_col)\n",
    "print('numerical column:',numerical_col)"
   ]
  },
  {
   "cell_type": "code",
   "execution_count": 21,
   "id": "f17cd86b",
   "metadata": {},
   "outputs": [],
   "source": [
    "#encoding categorical columns of train data\n",
    "from sklearn.preprocessing import OrdinalEncoder"
   ]
  },
  {
   "cell_type": "code",
   "execution_count": 22,
   "id": "c64ec5e9",
   "metadata": {},
   "outputs": [],
   "source": [
    "encoder= OrdinalEncoder()"
   ]
  },
  {
   "cell_type": "code",
   "execution_count": 23,
   "id": "e329143f",
   "metadata": {},
   "outputs": [],
   "source": [
    "df[categorical_col]= encoder.fit_transform(df[categorical_col])"
   ]
  },
  {
   "cell_type": "code",
   "execution_count": 24,
   "id": "9745b239",
   "metadata": {},
   "outputs": [
    {
     "name": "stdout",
     "output_type": "stream",
     "text": [
      "\n",
      "Transformed DataFrame:\n",
      "       TITLE  RESTAURANT_ID  CUISINES    TIME   CITY  LOCALITY  RATING  COST\n",
      "0       31.0           9438    2627.0   739.0  320.0     285.0     3.6  1200\n",
      "1       33.0          13198     289.0  1885.0   67.0    1046.0     4.2  1500\n",
      "2       31.0          10915    2976.0   661.0   67.0    1101.0     3.8   800\n",
      "3       95.0           6346    4130.0   275.0  222.0     136.0     4.1   800\n",
      "4       50.0          15387    1766.0   615.0  222.0     620.0     3.8   300\n",
      "...      ...            ...       ...     ...    ...       ...     ...   ...\n",
      "12685   95.0          13228    2934.0  1144.0  131.0     342.0     3.8   500\n",
      "12686   33.0           9686    2143.0  1177.0  222.0     133.0     4.3  1800\n",
      "12687   71.0          11133    2088.0  1137.0  239.0    1342.0     4.0  1300\n",
      "12688   31.0           6134    3506.0  1837.0   67.0     631.0     3.5   400\n",
      "12689   31.0           6430    2946.0   835.0  131.0    1333.0     3.4   600\n",
      "\n",
      "[12690 rows x 8 columns]\n"
     ]
    }
   ],
   "source": [
    "print(\"\\nTransformed DataFrame:\")\n",
    "print(df)"
   ]
  },
  {
   "cell_type": "code",
   "execution_count": 25,
   "id": "58e5e297",
   "metadata": {},
   "outputs": [],
   "source": [
    "#separating target column and columns not necessary in the analysis from data\n",
    "X_train= df.drop(['COST','RESTAURANT_ID'],axis=1)\n",
    "Y_train= df['COST']"
   ]
  },
  {
   "cell_type": "code",
   "execution_count": 26,
   "id": "4e488d87",
   "metadata": {
    "scrolled": true
   },
   "outputs": [
    {
     "name": "stdout",
     "output_type": "stream",
     "text": [
      "       TITLE  CUISINES    TIME   CITY  LOCALITY  RATING\n",
      "0       31.0    2627.0   739.0  320.0     285.0     3.6\n",
      "1       33.0     289.0  1885.0   67.0    1046.0     4.2\n",
      "2       31.0    2976.0   661.0   67.0    1101.0     3.8\n",
      "3       95.0    4130.0   275.0  222.0     136.0     4.1\n",
      "4       50.0    1766.0   615.0  222.0     620.0     3.8\n",
      "...      ...       ...     ...    ...       ...     ...\n",
      "12685   95.0    2934.0  1144.0  131.0     342.0     3.8\n",
      "12686   33.0    2143.0  1177.0  222.0     133.0     4.3\n",
      "12687   71.0    2088.0  1137.0  239.0    1342.0     4.0\n",
      "12688   31.0    3506.0  1837.0   67.0     631.0     3.5\n",
      "12689   31.0    2946.0   835.0  131.0    1333.0     3.4\n",
      "\n",
      "[12690 rows x 6 columns]\n",
      "0        1200\n",
      "1        1500\n",
      "2         800\n",
      "3         800\n",
      "4         300\n",
      "         ... \n",
      "12685     500\n",
      "12686    1800\n",
      "12687    1300\n",
      "12688     400\n",
      "12689     600\n",
      "Name: COST, Length: 12690, dtype: int64\n"
     ]
    }
   ],
   "source": [
    "print(X_train)\n",
    "print(Y_train)"
   ]
  },
  {
   "cell_type": "markdown",
   "id": "15c565cf",
   "metadata": {},
   "source": [
    "# Working on testing data"
   ]
  },
  {
   "cell_type": "code",
   "execution_count": 27,
   "id": "7717363f",
   "metadata": {},
   "outputs": [
    {
     "data": {
      "text/html": [
       "<div>\n",
       "<style scoped>\n",
       "    .dataframe tbody tr th:only-of-type {\n",
       "        vertical-align: middle;\n",
       "    }\n",
       "\n",
       "    .dataframe tbody tr th {\n",
       "        vertical-align: top;\n",
       "    }\n",
       "\n",
       "    .dataframe thead th {\n",
       "        text-align: right;\n",
       "    }\n",
       "</style>\n",
       "<table border=\"1\" class=\"dataframe\">\n",
       "  <thead>\n",
       "    <tr style=\"text-align: right;\">\n",
       "      <th></th>\n",
       "      <th>TITLE</th>\n",
       "      <th>RESTAURANT_ID</th>\n",
       "      <th>CUISINES</th>\n",
       "      <th>TIME</th>\n",
       "      <th>CITY</th>\n",
       "      <th>LOCALITY</th>\n",
       "      <th>RATING</th>\n",
       "      <th>VOTES</th>\n",
       "    </tr>\n",
       "  </thead>\n",
       "  <tbody>\n",
       "    <tr>\n",
       "      <th>0</th>\n",
       "      <td>CASUAL DINING</td>\n",
       "      <td>4085</td>\n",
       "      <td>North Indian, Chinese, Mughlai, Kebab</td>\n",
       "      <td>12noon – 12midnight (Mon-Sun)</td>\n",
       "      <td>Noida</td>\n",
       "      <td>Sector 18</td>\n",
       "      <td>4.3</td>\n",
       "      <td>564 votes</td>\n",
       "    </tr>\n",
       "    <tr>\n",
       "      <th>1</th>\n",
       "      <td>QUICK BITES</td>\n",
       "      <td>12680</td>\n",
       "      <td>South Indian, Fast Food, Pizza, North Indian</td>\n",
       "      <td>7am – 12:30AM (Mon-Sun)</td>\n",
       "      <td>Mumbai</td>\n",
       "      <td>Grant Road</td>\n",
       "      <td>4.2</td>\n",
       "      <td>61 votes</td>\n",
       "    </tr>\n",
       "    <tr>\n",
       "      <th>2</th>\n",
       "      <td>CASUAL DINING</td>\n",
       "      <td>1411</td>\n",
       "      <td>North Indian, Seafood, Biryani, Chinese</td>\n",
       "      <td>11am – 11:30pm (Mon-Sun)</td>\n",
       "      <td>Mumbai</td>\n",
       "      <td>Marine Lines</td>\n",
       "      <td>3.8</td>\n",
       "      <td>350 votes</td>\n",
       "    </tr>\n",
       "    <tr>\n",
       "      <th>3</th>\n",
       "      <td>None</td>\n",
       "      <td>204</td>\n",
       "      <td>Biryani</td>\n",
       "      <td>9am – 10pm (Mon, Wed, Thu, Fri, Sat, Sun), 10:...</td>\n",
       "      <td>Faridabad</td>\n",
       "      <td>NIT</td>\n",
       "      <td>3.8</td>\n",
       "      <td>1445 votes</td>\n",
       "    </tr>\n",
       "    <tr>\n",
       "      <th>4</th>\n",
       "      <td>QUICK BITES</td>\n",
       "      <td>13453</td>\n",
       "      <td>South Indian, Kerala</td>\n",
       "      <td>11am – 10pm (Mon-Sun)</td>\n",
       "      <td>Kochi</td>\n",
       "      <td>Kaloor</td>\n",
       "      <td>3.6</td>\n",
       "      <td>23 votes</td>\n",
       "    </tr>\n",
       "    <tr>\n",
       "      <th>...</th>\n",
       "      <td>...</td>\n",
       "      <td>...</td>\n",
       "      <td>...</td>\n",
       "      <td>...</td>\n",
       "      <td>...</td>\n",
       "      <td>...</td>\n",
       "      <td>...</td>\n",
       "      <td>...</td>\n",
       "    </tr>\n",
       "    <tr>\n",
       "      <th>4226</th>\n",
       "      <td>CASUAL DINING</td>\n",
       "      <td>9057</td>\n",
       "      <td>North Indian, Mughlai, Chinese</td>\n",
       "      <td>11:30am – 11:30pm (Mon-Sun)</td>\n",
       "      <td>New Delhi</td>\n",
       "      <td>Punjabi Bagh</td>\n",
       "      <td>3.9</td>\n",
       "      <td>287 votes</td>\n",
       "    </tr>\n",
       "    <tr>\n",
       "      <th>4227</th>\n",
       "      <td>None</td>\n",
       "      <td>1247</td>\n",
       "      <td>Biryani, North Indian, Sandwich, Salad, Wraps</td>\n",
       "      <td>11am – 1am (Mon-Sun)</td>\n",
       "      <td>Bangalore</td>\n",
       "      <td>HSR Layout</td>\n",
       "      <td>4.3</td>\n",
       "      <td>469 votes</td>\n",
       "    </tr>\n",
       "    <tr>\n",
       "      <th>4228</th>\n",
       "      <td>QUICK BITES</td>\n",
       "      <td>8617</td>\n",
       "      <td>Continental, North Indian</td>\n",
       "      <td>9:30am – 10:30pm (Mon-Sun)</td>\n",
       "      <td>Faridabad</td>\n",
       "      <td>Sector 86</td>\n",
       "      <td>3.7</td>\n",
       "      <td>53 votes</td>\n",
       "    </tr>\n",
       "    <tr>\n",
       "      <th>4229</th>\n",
       "      <td>QUICK BITES</td>\n",
       "      <td>6485</td>\n",
       "      <td>Rolls, Beverages</td>\n",
       "      <td>11am – 11:30pm (Mon, Tue, Wed, Thu, Sat, Sun),...</td>\n",
       "      <td>Kochi</td>\n",
       "      <td>Kochi</td>\n",
       "      <td>-</td>\n",
       "      <td>NaN</td>\n",
       "    </tr>\n",
       "    <tr>\n",
       "      <th>4230</th>\n",
       "      <td>QUICK BITES</td>\n",
       "      <td>2421</td>\n",
       "      <td>Mughlai</td>\n",
       "      <td>5pm – 1am (Mon-Sun)</td>\n",
       "      <td>Bandra West</td>\n",
       "      <td>Perry Cross Road</td>\n",
       "      <td>3.7</td>\n",
       "      <td>63 votes</td>\n",
       "    </tr>\n",
       "  </tbody>\n",
       "</table>\n",
       "<p>4231 rows × 8 columns</p>\n",
       "</div>"
      ],
      "text/plain": [
       "              TITLE  RESTAURANT_ID  \\\n",
       "0     CASUAL DINING           4085   \n",
       "1       QUICK BITES          12680   \n",
       "2     CASUAL DINING           1411   \n",
       "3              None            204   \n",
       "4       QUICK BITES          13453   \n",
       "...             ...            ...   \n",
       "4226  CASUAL DINING           9057   \n",
       "4227           None           1247   \n",
       "4228    QUICK BITES           8617   \n",
       "4229    QUICK BITES           6485   \n",
       "4230    QUICK BITES           2421   \n",
       "\n",
       "                                           CUISINES  \\\n",
       "0             North Indian, Chinese, Mughlai, Kebab   \n",
       "1      South Indian, Fast Food, Pizza, North Indian   \n",
       "2           North Indian, Seafood, Biryani, Chinese   \n",
       "3                                           Biryani   \n",
       "4                              South Indian, Kerala   \n",
       "...                                             ...   \n",
       "4226                 North Indian, Mughlai, Chinese   \n",
       "4227  Biryani, North Indian, Sandwich, Salad, Wraps   \n",
       "4228                      Continental, North Indian   \n",
       "4229                               Rolls, Beverages   \n",
       "4230                                        Mughlai   \n",
       "\n",
       "                                                   TIME         CITY  \\\n",
       "0                         12noon – 12midnight (Mon-Sun)        Noida   \n",
       "1                               7am – 12:30AM (Mon-Sun)       Mumbai   \n",
       "2                              11am – 11:30pm (Mon-Sun)       Mumbai   \n",
       "3     9am – 10pm (Mon, Wed, Thu, Fri, Sat, Sun), 10:...    Faridabad   \n",
       "4                                 11am – 10pm (Mon-Sun)        Kochi   \n",
       "...                                                 ...          ...   \n",
       "4226                        11:30am – 11:30pm (Mon-Sun)    New Delhi   \n",
       "4227                               11am – 1am (Mon-Sun)    Bangalore   \n",
       "4228                         9:30am – 10:30pm (Mon-Sun)    Faridabad   \n",
       "4229  11am – 11:30pm (Mon, Tue, Wed, Thu, Sat, Sun),...        Kochi   \n",
       "4230                                5pm – 1am (Mon-Sun)  Bandra West   \n",
       "\n",
       "              LOCALITY RATING       VOTES  \n",
       "0            Sector 18    4.3   564 votes  \n",
       "1           Grant Road    4.2    61 votes  \n",
       "2         Marine Lines    3.8   350 votes  \n",
       "3                  NIT    3.8  1445 votes  \n",
       "4               Kaloor    3.6    23 votes  \n",
       "...                ...    ...         ...  \n",
       "4226      Punjabi Bagh    3.9   287 votes  \n",
       "4227        HSR Layout    4.3   469 votes  \n",
       "4228         Sector 86    3.7    53 votes  \n",
       "4229             Kochi      -         NaN  \n",
       "4230  Perry Cross Road    3.7    63 votes  \n",
       "\n",
       "[4231 rows x 8 columns]"
      ]
     },
     "execution_count": 27,
     "metadata": {},
     "output_type": "execute_result"
    }
   ],
   "source": [
    "df1= pd.read_excel('Data_Test.xlsx')\n",
    "df1"
   ]
  },
  {
   "cell_type": "code",
   "execution_count": 28,
   "id": "62555235",
   "metadata": {},
   "outputs": [
    {
     "data": {
      "text/plain": [
       "TITLE              0\n",
       "RESTAURANT_ID      0\n",
       "CUISINES           0\n",
       "TIME               0\n",
       "CITY              35\n",
       "LOCALITY          30\n",
       "RATING             2\n",
       "VOTES            402\n",
       "dtype: int64"
      ]
     },
     "execution_count": 28,
     "metadata": {},
     "output_type": "execute_result"
    }
   ],
   "source": [
    "df1.isnull().sum()"
   ]
  },
  {
   "cell_type": "code",
   "execution_count": 29,
   "id": "01ddb93a",
   "metadata": {},
   "outputs": [],
   "source": [
    "#handling missing values of test data\n",
    "df1= df1.drop(columns=['VOTES','RESTAURANT_ID'], axis=1)"
   ]
  },
  {
   "cell_type": "code",
   "execution_count": 30,
   "id": "31d8f572",
   "metadata": {},
   "outputs": [],
   "source": [
    "df1['RATING'] = df1['RATING'].replace(np.nan,0)"
   ]
  },
  {
   "cell_type": "code",
   "execution_count": 31,
   "id": "bcf991e9",
   "metadata": {},
   "outputs": [],
   "source": [
    "df1['RATING'] = pd.to_numeric(df1['RATING'], errors='coerce')"
   ]
  },
  {
   "cell_type": "code",
   "execution_count": 32,
   "id": "126091fd",
   "metadata": {},
   "outputs": [],
   "source": [
    "#filling nan values of rating column with mean value\n",
    "df1['RATING'].fillna(df1['RATING'].mean(), inplace= True)"
   ]
  },
  {
   "cell_type": "code",
   "execution_count": 33,
   "id": "693b554e",
   "metadata": {},
   "outputs": [
    {
     "name": "stdout",
     "output_type": "stream",
     "text": [
      "0    Bangalore\n",
      "Name: CITY, dtype: object\n",
      "0      Kakkanad\n",
      "1    Kukatpally\n",
      "Name: LOCALITY, dtype: object\n"
     ]
    }
   ],
   "source": [
    "print(df1['CITY'].mode())\n",
    "print(df1['LOCALITY'].mode())"
   ]
  },
  {
   "cell_type": "code",
   "execution_count": 34,
   "id": "5e75c965",
   "metadata": {},
   "outputs": [],
   "source": [
    "#filling missing values of columns\n",
    "df1['CITY'].fillna(df1['CITY'].mode()[0], inplace= True)\n",
    "df1['LOCALITY'].fillna(df1['LOCALITY'].mode()[0], inplace= True)"
   ]
  },
  {
   "cell_type": "code",
   "execution_count": 35,
   "id": "b1735ddc",
   "metadata": {},
   "outputs": [
    {
     "data": {
      "text/plain": [
       "TITLE       0\n",
       "CUISINES    0\n",
       "TIME        0\n",
       "CITY        0\n",
       "LOCALITY    0\n",
       "RATING      0\n",
       "dtype: int64"
      ]
     },
     "execution_count": 35,
     "metadata": {},
     "output_type": "execute_result"
    }
   ],
   "source": [
    "df1.isnull().sum()"
   ]
  },
  {
   "cell_type": "code",
   "execution_count": 36,
   "id": "f63efa15",
   "metadata": {},
   "outputs": [],
   "source": [
    "#separating numerical and categorical columns\n",
    "numerical_col=[]\n",
    "categorical_col=[]\n",
    "for i in df1.dtypes.index:\n",
    "    if df1.dtypes[i]=='object':\n",
    "        categorical_col.append(i)\n",
    "    else:\n",
    "        numerical_col.append(i)"
   ]
  },
  {
   "cell_type": "code",
   "execution_count": 37,
   "id": "4f117355",
   "metadata": {},
   "outputs": [
    {
     "name": "stdout",
     "output_type": "stream",
     "text": [
      "categorical column: ['TITLE', 'CUISINES', 'TIME', 'CITY', 'LOCALITY']\n",
      "numerical column: ['RATING']\n"
     ]
    }
   ],
   "source": [
    "print('categorical column:',categorical_col)\n",
    "print('numerical column:',numerical_col)"
   ]
  },
  {
   "cell_type": "code",
   "execution_count": 38,
   "id": "5f16a6af",
   "metadata": {},
   "outputs": [
    {
     "name": "stdout",
     "output_type": "stream",
     "text": [
      "\n",
      "Transformed DataFrame:\n",
      "      TITLE  CUISINES    TIME   CITY  LOCALITY    RATING\n",
      "0      23.0    1293.0   503.0  110.0     662.0  4.300000\n",
      "1      75.0    1632.0   933.0   96.0     221.0  4.200000\n",
      "2      23.0    1455.0   219.0   96.0     411.0  3.800000\n",
      "3      66.0     208.0  1071.0   41.0     456.0  3.800000\n",
      "4      75.0    1637.0   208.0   78.0     300.0  3.600000\n",
      "...     ...       ...     ...    ...       ...       ...\n",
      "4226   23.0    1425.0   103.0  108.0     597.0  3.900000\n",
      "4227   66.0     267.0   262.0    9.0     237.0  4.300000\n",
      "4228   75.0     679.0  1052.0   41.0     696.0  3.700000\n",
      "4229   75.0    1541.0   215.0   78.0     332.0  3.779561\n",
      "4230   75.0    1145.0   781.0    8.0     580.0  3.700000\n",
      "\n",
      "[4231 rows x 6 columns]\n"
     ]
    }
   ],
   "source": [
    "#encoding categorical columns of test data\n",
    "from sklearn.preprocessing import OrdinalEncoder\n",
    "encoder= OrdinalEncoder()\n",
    "df1[categorical_col]= encoder.fit_transform(df1[categorical_col])\n",
    "print(\"\\nTransformed DataFrame:\")\n",
    "print(df1)"
   ]
  },
  {
   "cell_type": "markdown",
   "id": "66cfaeb6",
   "metadata": {},
   "source": [
    "# Creating Model"
   ]
  },
  {
   "cell_type": "code",
   "execution_count": 39,
   "id": "1746f60f",
   "metadata": {},
   "outputs": [],
   "source": [
    "from sklearn.ensemble import RandomForestClassifier\n",
    "from sklearn.metrics import accuracy_score"
   ]
  },
  {
   "cell_type": "code",
   "execution_count": 40,
   "id": "34472a46",
   "metadata": {},
   "outputs": [],
   "source": [
    "#creating model\n",
    "model= RandomForestClassifier()\n",
    "model.fit(X_train, Y_train)\n",
    "X_train_prediction= model.predict(X_train)\n",
    "train_data_accuracy= accuracy_score(X_train_prediction, Y_train)"
   ]
  },
  {
   "cell_type": "code",
   "execution_count": 41,
   "id": "b16aad6c",
   "metadata": {},
   "outputs": [
    {
     "name": "stdout",
     "output_type": "stream",
     "text": [
      "Accuracy: 0.9991331757289205\n"
     ]
    }
   ],
   "source": [
    "print('Accuracy:',train_data_accuracy)"
   ]
  },
  {
   "cell_type": "markdown",
   "id": "8b64659e",
   "metadata": {},
   "source": [
    "# Prediction on testing data"
   ]
  },
  {
   "cell_type": "code",
   "execution_count": 42,
   "id": "8843ea8f",
   "metadata": {},
   "outputs": [],
   "source": [
    "input_data= (df1)\n",
    "data= np.asarray(input_data)\n",
    "reshape= data.reshape(4231,6)"
   ]
  },
  {
   "cell_type": "code",
   "execution_count": 43,
   "id": "dbe6d13d",
   "metadata": {},
   "outputs": [
    {
     "name": "stdout",
     "output_type": "stream",
     "text": [
      "[1100 1500  600 ...  300  300  300]\n"
     ]
    }
   ],
   "source": [
    "output= model.predict(reshape)\n",
    "print(output)"
   ]
  },
  {
   "cell_type": "code",
   "execution_count": 45,
   "id": "91f5e5c5",
   "metadata": {},
   "outputs": [
    {
     "data": {
      "text/plain": [
       "(4231,)"
      ]
     },
     "execution_count": 45,
     "metadata": {},
     "output_type": "execute_result"
    }
   ],
   "source": [
    "output.shape"
   ]
  }
 ],
 "metadata": {
  "kernelspec": {
   "display_name": "Python 3 (ipykernel)",
   "language": "python",
   "name": "python3"
  },
  "language_info": {
   "codemirror_mode": {
    "name": "ipython",
    "version": 3
   },
   "file_extension": ".py",
   "mimetype": "text/x-python",
   "name": "python",
   "nbconvert_exporter": "python",
   "pygments_lexer": "ipython3",
   "version": "3.11.4"
  }
 },
 "nbformat": 4,
 "nbformat_minor": 5
}
